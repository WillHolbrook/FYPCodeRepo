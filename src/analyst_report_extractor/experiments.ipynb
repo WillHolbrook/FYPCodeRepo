{
 "cells": [
  {
   "cell_type": "code",
   "execution_count": 1,
   "metadata": {
    "collapsed": true,
    "pycharm": {
     "name": "#%%\n"
    }
   },
   "outputs": [
    {
     "name": "stderr",
     "output_type": "stream",
     "text": [
      "[nltk_data] Downloading package punkt to\n",
      "[nltk_data]     C:\\Users\\calga\\AppData\\Roaming\\nltk_data...\n",
      "[nltk_data]   Package punkt is already up-to-date!\n",
      "[nltk_data] Downloading package stopwords to\n",
      "[nltk_data]     C:\\Users\\calga\\AppData\\Roaming\\nltk_data...\n",
      "[nltk_data]   Package stopwords is already up-to-date!\n"
     ]
    },
    {
     "data": {
      "text/plain": "True"
     },
     "execution_count": 1,
     "metadata": {},
     "output_type": "execute_result"
    }
   ],
   "source": [
    "import string\n",
    "import nltk\n",
    "from nltk import word_tokenize, PorterStemmer\n",
    "from nltk.corpus import stopwords\n",
    "from nltk.stem.api import StemmerI\n",
    "\n",
    "nltk.download('punkt')\n",
    "nltk.download('stopwords')"
   ]
  },
  {
   "cell_type": "code",
   "execution_count": 2,
   "outputs": [
    {
     "name": "stdout",
     "output_type": "stream",
     "text": [
      "\n",
      "Europe Equity Research\n",
      "23 Jun 2022\n",
      "/J PMorgan\n",
      "ChristopherBrown\n",
      "christopher.brown@jpmorgan.com\n",
      "CFAAdamKelly\n",
      "adam.kelly@jpmorgan.com\n",
      "JP MorganSecurities\n",
      "LiamMacdonald-Raggett -Sales\n",
      "JPMorgan\n",
      "Investment Companies\n",
      "UK\n",
      "Investment Industry Regulatory Organization\n",
      "Canada\n",
      "Europe Equity Research\n",
      "23 Jun 2022\n",
      "37FDCB7B9D122FDA48C78B46395D668F\n",
      "GROBID - A machine learning software for extracting information from scholarly documents\n",
      "J.P. Morgan does and seeks to do business with companies covered in its research reports. As a result, investors should be aware that the firm may have a conflict of interest that could affect the objectivity of this report. Investors should consider this report as only a single factor in making their investment decision.\n",
      "3i has announced that it, and its co-investor Cathay Capital, has entered into exclusive negotiations to sell Havea Group to BC Partners, alongside Havea's management team. Closing is expected in Q4 22 and proceeds are expected to be at around a 50% uplift to its 31/3/22 valuation. Havea, a leading European natural healthcare business acquired in 2017, was valued by 3i at Â£304m at 31/3/22 (2.4% of NAV) vs Â£196m cost. A 50% uplift implies gross proceeds of Â£456m and 2.3x money over 5 years. We add this to our model as an unrealised gain in FY H1 and a realised gain in FY H2 and, taking into account carry, we estimate that it increases our live NAVe by 14pps from 1359.4pps to 1373.4pps, or 1%. This has a knock-on effect to our longer term estimates. These are shown in the table below, noting that they also reflect forex movements since we last published on 20/5/22 -these rise by around 2%. The share price at the moment of 1068pps (@9.45) in our view reflects market scepticism about fair values at 31/3/22, since when the MSCI Europe and MSCI World have fallen 10.6% and 7.2% respectively (Â£ TR) vs 3i down 20.5%. Our estimates assume flat earnings multiples on the basis that 3i is likely to reduce the earnings multiple discounts it applies to public comps when it undertakes the next exercise at 30.6.22 (expected to be announced late July). Thus the NAV will become less conservative than before, but we think the market is being overly pessimistic and a sale of a top ten asset at a 50% premium to its 31/3/22 mark supports our view by sending precisely the opposite message. The bigger point is that 3i owns control positions in its companies so while the valuation of private businesses is usually less than public market equivalents due to the 'illiquidity discount' build into the valuation process, it does not include a control premium which is usually captured on exit. We have recently seen a number of listed PE companies sell businesses at 20%+ uplifts to 31/3/22 valuations, so taking a longer term view we believe that wide discounts in listed PE represent excellent value. Based on our live NAVe the discount on 3i is 22.2% vs an average premium 16.3% since 2014, and noting that even during COVID-19 it only hit a 1% discount (see chart below). We remain Overweight with 3i one of our key picks with a relatively defensive portfolio that navigated COVID-19 very successfully, and in our view will be similarly robust in the event of a recession. Most interest rate risk is hedged at the underlying company level, while 3i itself has long term fixed rate financing (Â£375m fixed at 5.75% to 2032 and Â£400m fixed at 3.75% to 2040). The proceeds from this transaction will also likely more than fund the recent new investments, such that we estimate proforma net gearing at the 3i level to be around only 4% of NAV. This document is being provided for the exclusive use of WILLIAM HOLBROOK at UNIVERSITY OF BIRMINGHAM.The chart(s) show J.P. Morgan's continuing coverage of the stocks; the current analysts may or may not have covered it over the entire period. J.P. Morgan ratings or designations: OW = Overweight, N= Neutral, UW = Underweight, NR = Not Rated\n",
      "Explanation of Research Ratings:For Investment trusts and private equity companies, the following stock recommendation definitions apply: Overweight -the total return on the security is expected to outperform the sector* by 5% or more over the next six months. Neutral -the total return on the security is not expected to outperform or underperform the sector* by 5% or more over the next six months. Underweight -the total return on the security is expected to underperform the sector* by 5% or more over the next six months. Not Rated (NR): J.P. Morgan has removed the rating and, if applicable, the price target, for this stock because of either a lack of a sufficient fundamental basis or for legal, regulatory or policy reasons. The previous rating and, if applicable, the price target, no longer should be relied upon. An NR designation is not a recommendation or a rating. *the sector comprises those securities covered by the analyst(s) where those securities would be included within the relevant AIC, Datastream or Morningstar sub-sectors.For hedge funds the following stock recommendation definitions apply:Overweight -the risk-adjusted total return on the security is expected to outperform the sector over the next six months. Neutral -the risk adjusted total return on the security is not expected to outperform or underperform the sector over the next six months. Underweight -the risk-adjusted total return on the security is expected to underperform the sector over the next six months. Not Rated (NR): J.P. Morgan has removed the rating and, if applicable, the price target, for this stock because of either a lack of a sufficient fundamental basis or for legal, regulatory or policy reasons. The previous rating and, if applicable, the price target, no longer should be relied upon. An NR designation is not a recommendation or a rating. *the sector comprises those securities covered by analyst(s) within the relevant J.P. Morgan Cazenove sub-sectors. The J.P. Morgan Cazenove sub-sectors are fund of funds (multi-manager) and single manager funds.\n",
      "Research Ratings Distribution:For investment trust and private equity companies, J.P. Morgan Cazenove research has 205 companies under coverage. 32% have been assigned an OVERWEIGHT rating. 23% of companies within this rating are investment banking clients of the firm. 51% have been assigned an NEUTRAL rating. 11% of companies within this rating are investment banking clients of the firm. 17% have been assigned an UNDERWEIGHT rating. 15% of companies within this rating are investment banking clients of the firm.\n",
      "Equity Valuation and Risks:For valuation methodology and risks associated with covered companies or price targets for covered companies, please see the most recent company-specific research report at http://www.jpmorganmarkets.com, contact the primary analyst or your J.P. Morgan representative, or email research.disclosure.inquiries@jpmorgan.com. For material information about the proprietary models used, please see the Summary of Financials in company-specific research reports and the Company Tearsheets, which are available to download on the company pages of our client website, http://www.jpmorganmarkets.com. This report also sets out within it the material underlying assumptions used.A history of J.P. Morgan investment recommendations disseminated during the preceding 12 months can be accessed on the Research & Commentary page of http://www.jpmorganmarkets.com where you can also search by analyst name, sector or financial instrument.\n",
      "Analysts' Compensation:The research analysts responsible for the preparation of this report receive compensation based upon various factors, including the quality and accuracy of research, client feedback, competitive factors, and overall firm revenues.Registration of non-US Analysts: Unless otherwise noted, the non-US analysts listed on the front of this report are employees of non-US affiliates of J.P. Morgan Securities LLC, may not be registered as research analysts under FINRA rules, may not be associated persons of J.P. Morgan Securities LLC, and may not be subject to FINRA Rule 2241 or 2242 restrictions on communications with covered companies, public appearances, and trading securities held by a research analyst account. This document is being provided for the exclusive use of WILLIAM HOLBROOK at UNIVERSITY OF BIRMINGHAM.\n",
      "Other DisclosuresTable 1 : 3i -New Estimates123/06/2022 e30/09/2022 e31/03/2023 e31/03/2024 e\n",
      "J.P. Morgan is a marketing name for investment banking businesses of JPMorgan Chase & Co. and its subsidiaries and affiliates worldwide. UK clients should refer to UK MIFID Research Unbundling exemption for details of JPMorgan's implementation of the FICC research exemption and guidance on relevant FICC research categorisation.All research material made available to clients are simultaneously available on our client website, J.P. Morgan Markets, unless specifically permitted by relevant laws. Not all research content is redistributed, e-mailed or made available to third-party aggregators. For all research material available on a particular stock, please contact your sales representative.Any long form nomenclature for references to China; Hong Kong; Taiwan; and Macau within this research material are Mainland China; Hong Kong SAR (China); Taiwan (China); and Macau SAR (China). J.P. Morgan Research may, from time to time, write on issuers or securities targeted by economic or financial sanctions imposed or administered by the governmental authorities of the U.S., EU, UK or other relevant jurisdictions (Sanctioned Securities). Nothing in this report is intended to be read or construed as encouraging, facilitating, promoting or otherwise approving investment or dealing in such Sanctioned Securities. Clients should be aware of their own legal and compliance obligations when making investment decisions.UK MIFID FICC research unbundling exemption:\n",
      "The Research Analyst(s) denoted by an \"AC\" on the cover of this report certifies (or, where multiple Research Analysts are primarily responsible for this report, the Research Analyst denoted by an \"AC\" on the cover or within the document individually certifies, with respect to each security or issuer that the Research Analyst covers in this research) that: (1) all of the views expressed in this report accurately reflect the Research Analyst's personal views about any and all of the subject securities or issuers; and(2) no part of any of the Research Analyst's compensation was, is, or will be directly or indirectly related to the specific recommendations or views expressed by the Research Analyst(s) in this report. For all Korea-based Research Analysts listed on the front cover, if applicable, they also certify, as per KOFIA requirements, that the Research Analyst's analysis was made in good faith and that the views reflect the Research Analyst's own opinion, without undue influence or intervention.All authors named within this report are Research Analysts who produce independent research unless otherwise specified. In Europe, Sector Specialists (Sales and Trading) may be shown on this report as contacts but are not authors of the report or part of the Research Department. Research issued by JPMSAL has been prepared in accordance with J.P. Morgan Australia's Research Independence Policy which can be found at the following link: J.P. Morgan Australia -Research Independence Policy. Brazil: Banco J.P. Morgan S.A. is regulated by the Comissao de Valores Mobiliarios (CVM) and by the Central Bank of Brazil. Ombudsman J.P. Morgan: 0800-7700847\n",
      "Securities and Futures Act,Cap. 289 (SFA). This material is not intended to be issued or distributed to any retail investors or any other investors that do not fall into the classes of \"accredited investors,\" \"expert investors\" or \"institutional investors,\" as defined under Section 4A of the SFA. Recipients of this material in Singapore are to contact JPMSS or JPMCB Singapore in respect of any matters arising from, or in connection with, the material. As at the date of this material, JPMSS is a designated market maker for certain structured warrants listed on the Singapore Exchange where the underlying securities may be the securities discussed in this material. Arising from its role as a designated market maker for such structured warrants, JPMSS may conduct hedging activities in respect of such underlying securities and hold or have an interest in such underlying securities as a result. The updated list of structured warrants for which JPMSS acts as designated market maker may be found on the website of the Singapore Exchange Limited: http://www.sgx.com. South Africa: J.P. Morgan Equities South Africa Proprietary Limited and JPMorgan Chase Bank, N.A., Johannesburg Branch are members of the Johannesburg Securities Exchange and are regulated by the Financial Services Board. Taiwan: J.P. Morgan Securities (Taiwan) Limited is a participant of the Taiwan Stock Exchange (company-type) and regulated by the Taiwan Securities and Futures Bureau. Material relating to equity securities is issued and distributed in Taiwan by J.P. Morgan Securities (Taiwan) Limited, subject to the license scope and the applicable laws and the regulations in Taiwan. According to Paragraph 2, Article 7-1 of Operational Regulations Governing Securities Firms Recommending Trades in Securities to Customers (as amended or supplemented) and/or other applicable laws or regulations, please note that the recipient of this material is not permitted to engage in any activities in connection with the material that may give rise to conflicts of interests, unless otherwise disclosed in the \"Important Disclosures\" in this material. Thailand: This material is issued and distributed in Thailand by JPMorgan Securities (Thailand) Ltd., which is a member of the Stock Exchange of Thailand and is regulated by the Ministry of Finance and the Securities and Exchange Commission, and its registered address is 3rd Floor, 20 North Sathorn Road, Silom, Bangrak, Bangkok 10500. UK: Unless specified to the contrary, research is distributed in the UK by J.P. Morgan Securities plc (\"JPMS plc\") which is a member of the London Stock Exchange and is authorised by the Prudential Regulation Authority and regulated by the Financial Conduct Authority and the Prudential Regulation Authority. JPMS plc is registered in England & Wales No. 2711006, Registered Office 25 Bank Street, London, E14 5JP. This material is directed in the UK only to: (a) persons having professional experience in matters relating to investments falling within article 19(5) of the Financial Services and Markets Act 2000 (Financial Promotion) (Order) 2005 (\"the FPO\"); (b) persons outlined in article 49 of the FPO (high net worth companies, unincorporated associations or partnerships, the trustees of high value trusts, etc.); or (c) any persons to whom this communication may otherwise lawfully be made; all such persons being referred to as \"UK relevant persons\". This material must not be acted on or relied on by persons who are not UK relevant persons. Any investment or investment activity to which this material relates is only available to UK relevant persons and will be engaged in only with UK relevant persons. Research issued by JPMS plc has been prepared in accordance with JPMS plc's policy for prevention and avoidance of conflicts of interest related to the production of Research which can be found at the following link: J.P. Morgan EMEA -Research Independence Policy. U.S.: J.P. Morgan Securities LLC (\"JPMS\") is a member of the NYSE, FINRA, SIPC, and the NFA. JPMorgan Chase Bank, N.A. is a member of the FDIC. Material published by non-U.S. affiliates is distributed in the U.S. by JPMS who accepts responsibility for its content.General: Additional information is available upon request. The information in this material has been obtained from sources believed to be reliable. While all reasonable care has been taken to ensure that the facts stated in this material are accurate and that the forecasts, opinions and expectations contained herein are fair and reasonable, JPMorgan Chase & Co. or its affiliates and/or subsidiaries (collectively J.P. Morgan) make no representations or warranties whatsoever to the completeness or accuracy of the material provided, except with respect to any disclosures relative to J.P. Morgan and the Research Analyst's involvement with the issuer that is the subject of the material. Accordingly, no reliance should be placed on the accuracy, fairness or completeness of the information contained in this material. Any data discrepancies in this material could be the result of different calculations and/or adjustments. J.P. Morgan accepts no This document is being provided for the exclusive use of WILLIAM HOLBROOK at UNIVERSITY OF BIRMINGHAM.liability whatsoever for any loss arising from any use of this material or its contents, and neither J.P. Morgan nor any of its respective directors, officers or employees, shall be in any way responsible for the contents hereof, apart from the liabilities and responsibilities that may be imposed on them by the relevant regulatory authority in the jurisdiction in question, or the regulatory regime thereunder. Opinions, forecasts or projections contained in this material represent J.P. Morgan's current opinions or judgment as of the date of the material only and are therefore subject to change without notice. Periodic updates may be provided on companies/industries based on company-specific developments or announcements, market conditions or any other publicly available information. There can be no assurance that future results or events will be consistent with any such opinions, forecasts or projections, which represent only one possible outcome. Furthermore, such opinions, forecasts or projections are subject to certain risks, uncertainties and assumptions that have not been verified, and future actual results or events could differ materially. The value of, or income from, any investments referred to in this material may fluctuate and/or be affected by changes in exchange rates. All pricing is indicative as of the close of market for the securities discussed, unless otherwise stated. Past performance is not indicative of future results. Accordingly, investors may receive back less than originally invested. This material is not intended as an offer or solicitation for the purchase or sale of any financial instrument. The opinions and recommendations herein do not take into account individual client circumstances, objectives, or needs and are not intended as recommendations of particular securities, financial instruments or strategies to particular clients. The recipients of this material must make their own independent decisions regarding any securities or financial instruments mentioned herein and should seek advice from such independent financial, legal, tax or other adviser as they deem necessary. J.P. Morgan may trade as a principal on the basis of the Research Analysts' views and research, and it may also engage in transactions for its own account or for its clients' accounts in a manner inconsistent with the views taken in this material, and J.P. Morgan is under no obligation to ensure that such other communication is brought to the attention of any recipient of this material. Others within J.P. Morgan, including Strategists, Sales staff and other Research Analysts, may take views that are inconsistent with those taken in this material. Employees of J.P. Morgan not involved in the preparation of this material may have investments in the securities (or derivatives of such securities) mentioned in this material and may trade them in ways different from those discussed in this material. This material is not an advertisement for or marketing of any issuer, its products or services, or its securities in any jurisdiction.\"Other Disclosures\" last revised May 28, 2022.\n",
      ";East\n",
      "91-22-6157 3990\n",
      "which is a member of the Singapore Exchange Securities Trading Limited\n",
      "JPThrough\n",
      "SecuritiesMorgan\n",
      "PrivateSingapore\n",
      "Limited\n",
      "Mumbai -; Korea; Seoul Branch; Seoul Branch; Seoul Branch. Japan; Mexico; Pakistan; Philippines; Russia; Singapore; MCI (P; , N.A., Singapore branch (JPMCB Singapore\n",
      "JPMorgan Chase Bank\n",
      "093/09/2021\n",
      "400098\n",
      ") Act of 2008. both of which are regulated by the Monetary Authority of Singapore. This material is issued and distributed in Singapore only to accredited investors, expert investors and institutional investors, as defined in Section 4A of the\n",
      "\n"
     ]
    }
   ],
   "source": [
    "with open(\n",
    "        \"../../../FilestoreRepo/FTSE100Info/txtReports/3i_group/20220628_JP_Morgan_III-LN_3i-_Exclusive_talks_to_sell_Havea_with_proceeds_expected.tei.xml.txt\") as f:\n",
    "    document = f.read()\n",
    "print(document)"
   ],
   "metadata": {
    "collapsed": false,
    "pycharm": {
     "name": "#%%\n"
    }
   }
  },
  {
   "cell_type": "code",
   "execution_count": 3,
   "outputs": [],
   "source": [
    "# Replace all punctuation with white space and make lower case\n",
    "document = \"\".join([\" \" if t in string.punctuation else t for t in document]).lower()"
   ],
   "metadata": {
    "collapsed": false,
    "pycharm": {
     "name": "#%%\n"
    }
   }
  },
  {
   "cell_type": "code",
   "execution_count": 4,
   "outputs": [
    {
     "name": "stdout",
     "output_type": "stream",
     "text": [
      "{'realised', 'preparation', 'finance', 'valuation', '2032', 'models', 'china', 'trading', 'redistributed', 'note', 'professional', 'brazil', 'important', 'registration', 'construed', 'overweight', 'jun', '2017', 'proforma', 'chase', 'inconsistent', 'plc', 'process', 'alongside', '31', 'increases', 'targeted', 'article', 'verified', 'partners', '2242', 'registered', 'below', 'apart', 'gross', 'wales', 'noted', 'recommending', 'analysts', 'sell', 'vs', 'software', 'assumptions', 'eu', 'risk', 'calculations', 'since', 'n', 'reliable', 'make', 'fy', '0800', 'msci', 'contents', 'purchase', 'http', 'restrictions', 'key', 'opposite', 'economic', 'ltd', 'in', 'stock', 'indicative', 'equities', 'care', 'u', 'bigger', 'e30', 'email', 'adviser', 'announced', 'north', 'implies', 'positions', 'average', 'believed', 'public', 'university', '289', 'related', 'transactions', 'p', 'removed', 'encouraging', 'representations', 'specialists', '50', 'certifies', 'appearances', 'time', 'nr', 'referred', 'updates', 'rated', 'long', 'other', 'authority', 'return', 'one', 'employees', 'amended', 'notice', 'implementation', 'at', 'only', 'directed', 'liability', 'events', 'discount', 'derivatives', '093', 'governmental', 'share', '06', 'jpmorganmarkets', 'named', 'similarly', 'trustees', 'you', 'circumstances', 'any', 'regulated', 'discrepancies', 'activity', 'valores', 'distribution', 'could', 'member', 'close', 'refer', 'activities', 'valued', 'revenues', 'jpmss', 'structured', 'c', 'commentary', '400098', 'knock', 'entire', 'unrealised', 'associations', 'advertisement', 'products', 'acquired', 'trades', 'fixed', 'revised', 'mumbai', 'also', 'prudential', 'read', 'disclosures', 'e31', 'approving', 'rate', 'hit', 'sales', 'firms', 'details', 'exercise', 'originally', '3i', 'performance', 'healthcare', 'section', 'accordingly', 'objectives', 'banking', 'valuations', 'â£196m', 'nomenclature', 'apply', 'projections', 'pakistan', 'control', 'brown', '3990', 'underweight', 'instrument', 'laws', 'relative', 'become', 'trusts', 'pmorgan', 'recipients', 'disclosurestable', 'business', 'seeks', 'involved', 'both', '91', 'particular', 'neutral', 'front', 'collectively', 'when', 'sectors', 'classes', 'continuing', 'fundamental', 'representative', 'add', 'quality', 'name', 'outlined', 'raggett', 'non', 'acts', 'england', 'holbrook', 'future', 'not', 'instruments', 'fpo', 'carry', '2023', 'message', 'feedback', 'held', '2021', 'model', 'number', 'comissao', 'firm', '03', 'morgansecurities', 'found', 'information', '75', 'specific', 'rise', 'views', 'fair', 'be', 'covered', 'exemption', 'equity', 'remain', 'consistent', 'target', 'its', 'period', 'based', 'as', 'price', 'being', 'fall', 'it', 'methodology', 'investors', 'history', '2711006', 'comps', 'precisely', 'past', 'estimates', 'denoted', 'mainland', '1373', 'next', 'singapore', 'license', 'opinions', 'they', 'by', 'facilitating', 'jurisdictions', 'without', 'issuers', 'report', 'effect', 'relating', 'documents', 'conservative', 'officers', 'liammacdonald', 'conflict', 'lack', 'each', 'cover', '7', 'defined', 'havea', 'specified', 'jp', 'table', 'recession', 'six', 'cazenove', 'pe', 'futures', 'philippines', 'top', 'assigned', 'such', 'ensure', 'about', 'interest', '5jp', 'moment', 'made', 'financing', '10', 'think', 'judgment', 'strategies', 'rates', '2', 'affected', 'there', 'longer', 'affiliates', 'document', 'contact', 'undue', 'connection', 'updated', 'pricing', 'reduce', 'â£456m', 'view', 'â£375m', 'accredited', 'search', 'will', 'arising', 'exit', 'customers', 'likely', '6157', 'estimates123', 'ficc', 'grobid', 'llc', 'usually', 'mark', 'an', 'requirements', 'department', 'order', 'decision', 'group', 'european', 'private', 'regulatory', 'covers', 'market', 'supplemented', 'shall', 'monetary', 'investor', 'please', 'discounts', 'date', 'inquiries', 'security', 'datastream', 'administered', 'portfolio', '2022', 'participant', 'designations', 'nfa', 'provided', 'acted', 'may', 'adam', 'www', 'independent', 'more', 'guidance', 'east', 'warranties', 'way', '2024', 'sanctions', 'africa', 'contained', 'content', 'hedging', 'accessed', 'regime', 'material', 'us', 'bangkok', 'of', 'very', 'overall', '3rd', 'stated', 'differ', 'risks', 'analysis', 'investment', 'shown', '19', 'fairness', 'references', 'world', 'down', 's', 'does', '4pps', 'money', 'kofia', 'morgan', 'multiple', 'itself', 'out', 'designated', 'avoidance', 'floor', 'take', 'needs', 'categorisation', 'â£304m', 'who', 'listed', 'investments', 'loss', 'jpmorgan', 'jpms', 'imposed', 'over', '3x', 'obtained', 'contrary', 'advice', 'conditions', 'that', 'russia', 'download', 'single', 'specifically', 'has', 'wide', 'disseminated', 'sets', 'explanation', 'navigated', 'for', 'upon', 'transaction', '5', 'contacts', 'role', '1359', 'compensation', 'issued', 'applies', 'funds', 'negotiations', 'included', 'fdic', 'cvm', 'certify', 'definitions', 'operational', 'per', '4', 'attention', 'q4', 'recommendation', 'policy', 'clients', 'seek', 'individual', 'h1', 'event', 'solicitation', 'industry', 'â£', 'developments', 'simultaneously', 'otherwise', 'accounts', 'e14', 'factors', 'sufficient', 'tr', 'institutional', 'because', 'uk', '16', 'from', 'conflicts', 'accuracy', 'trust', 'machine', 'sanctioned', 'bangrak', 'businesses', '7700847', 'level', 'their', 'chart', 'must', 'ten', 'marketing', '51', 'receive', 'street', '37fdcb7b9d122fda48c78b46395d668f', 'expected', 'silom', 'dealing', 'directly', 'account', 'australia', 'personal', 'learning', 'influence', 'christopher', 'nor', 'worldwide', 'assume', 'premium', 'value', 'faith', 'com', 'successfully', 'privatesingapore', '9', 'exchange', 'earnings', 'branch', 'proprietary', 'client', 'h2', 'thus', 'ratings', 'around', 'respectively', 'been', 'under', 'those', 'while', 'analyst', '3', 'assurance', 'additional', 'jpmsal', 'changes', 'disclosed', 'possible', 'trade', 'third', 'individually', 'office', 'fallen', 'party', 'we', 'part', 'completeness', 'results', 'objectivity', 'brought', 'have', 'accurately', 'mobiliarios', '17', 'capital', 'expressed', 'relevant', 'question', 'see', 'targets', 'subject', 'compliance', 'change', 'b', 'own', 'nav', 'fund', 'summary', 'banco', '25', 'accordance', 'underlying', '2040', 'subsidiaries', 'ways', 'seoul', 'due', 'would', 'type', 'different', 'entered', 'include', 'christopherbrown', 'accurate', 'competitive', 'less', 'can', 'reflects', 'legal', 'aic', 'whom', 'primarily', 'publicly', 'result', 'page', 'having', 'â£400m', 'defensive', 'independence', 'offer', 'coverage', 'partnerships', 'tearsheets', 'facts', 'engaged', 'adjusted', 'members', '12', 'recently', '4a', 'emea', '1', 'expert', 'regarding', 'team', 'engage', 'jurisdiction', 'designation', 'kong', 'all', 'ac', 'used', 'hedge', 'taken', 'prevention', 'authorised', 'various', 'no', 'years', 'ministry', 'markets', 'company', 'making', 'into', '28', 'unbundling', 'factor', 'manager', 'either', 'estimate', 'according', 'our', 'scepticism', 'stocks', 'responsibilities', 'live', 'europe', 'fluctuate', '45', '22', 'lawfully', 'last', 'comprises', '2241', 'unless', 'noting', 'asset', 'disclosure', 'bureau', 'uplifts', 'conduct', 'sfa', '14pps', 'principal', 'strategists', '205', 'cap', 'during', 'retail', 'promotion', 'on', 'finra', 'request', 'preceding', 'reliance', 'obligation', 'is', 'uw', 'nothing', 'sector', 'new', 'canada', 'general', 'than', 'research', 'issuer', 'owns', 'available', 'others', 'pessimistic', 'production', 'the', 'basis', 'unincorporated', 'south', '49', 'income', '20', 'intervention', 'invested', 'services', 'most', 'hereof', 'scope', 'recipient', 'extracting', 'persons', 'affect', 'bc', 'these', 'produce', 'board', 'rule', 'interests', 'london', 'liabilities', 'robust', 'permitted', 'sources', 'nave', 'whatsoever', 'directors', 'hong', 'organization', 'or', 'rating', 'use', 'adjustments', 'authorities', 'supports', 'associated', 'flat', 'values', 'relatively', 'matters', 'should', 'mifid', 'macau', 'a', 'ombudsman', 'opinion', 'japan', 'materially', 'which', 'current', 'maker', 'natural', 'uplift', '11', 'data', 'thailand', 'e', 'securitiesmorgan', 'companies', 'movements', 'reflect', 'cathay', 'responsible', 'central', 'experience', '2008', 'sgx', 'forex', 'reasonable', 'show', 'undertakes', 'staff', 'gearing', 'william', '30', 'within', '2000', 'believe', 'respective', 'aware', 'uncertainties', 'and', 'sub', 'your', 'necessary', 'sale', 'regulations', 'birmingham', 'discussed', 'list', 'website', 'so', 'responsibility', 'paragraph', 'multiples', 'scholarly', 'jpmcb', 'expectations', 'therefore', 'tax', 'leading', 'back', 'if', 'jpthrough', 'distributed', 'indirectly', 'announcements', 'hedged', 'involvement', 'illiquidity', '2014', 'link', 'regulation', 'primary', 'de', 'relied', 'published', 'sar', 'them', 'respect', 'even', '6', 'road', 'including', 'hold', 'equivalents', 'nyse', 'mexico', '23', 'manner', 'captured', 'worth', 'form', 'high', 'picks', 'this', 'neither', 'multi', 'taking', 'forecasts', 'pages', 'july', 'intended', 'previous', 'etc', 'build', 'authors', 'act', 'placed', 'give', 'good', 'mailed', 'falling', 'except', 'relates', 'j', 'seen', 'commission', 'total', 'accepts', 'underperform', 'furthermore', 'management', 'cost', 'limited', 'morningstar', 'represent', '2005', 'reports', 'before', 'thereunder', 'industries', 'overly', 'term', 'exclusive', 'herein', 'periodic', '1068pps', '09', 'mentioned', 'following', 'to', 'financials', 'actual', 'co', 'late', 'taiwan', 'point', 'months', 'where', 'deem', 'financial', 'sending', 'warrants', 'gain', 'applicable', 'promoting', 'reasons', 'ow', 'decisions', 'cfaadamkelly', 'securities', 'sipc', 'mci', 'communication', 'but', 'proceeds', 'communications', 'obligations', 'do', 'recent', 'net', 'was', 'governing', 'closing', 'rules', 'with', '15', 'excellent', 'address', 'certain', 'sathorn', 'consider', 'outcome', 'prepared', 'recommendations', 'outperform', 'write', 'kelly', 'aggregators', 'bank', 'covid', 'johannesburg', 'korea', 'are', '10500', '32'}\n"
     ]
    }
   ],
   "source": [
    "# Split into tokens\n",
    "doc_tokens = set(word_tokenize(document))\n",
    "print(doc_tokens)"
   ],
   "metadata": {
    "collapsed": false,
    "pycharm": {
     "name": "#%%\n"
    }
   }
  },
  {
   "cell_type": "code",
   "execution_count": 5,
   "outputs": [
    {
     "name": "stdout",
     "output_type": "stream",
     "text": [
      "941\n",
      "862\n"
     ]
    }
   ],
   "source": [
    "print(len(doc_tokens))\n",
    "doc_tokens = {doc_token for doc_token in doc_tokens if doc_token not in stopwords.words(\"english\")}\n",
    "print(len(doc_tokens))\n",
    "# print(doc_tokens)"
   ],
   "metadata": {
    "collapsed": false,
    "pycharm": {
     "name": "#%%\n"
    }
   }
  },
  {
   "cell_type": "code",
   "execution_count": 6,
   "outputs": [
    {
     "name": "stdout",
     "output_type": "stream",
     "text": [
      "725\n"
     ]
    }
   ],
   "source": [
    "ps = PorterStemmer()\n",
    "doc_tokens = {ps.stem(doc_token) for doc_token in doc_tokens}\n",
    "# print(doc_tokens)\n",
    "print(len(doc_tokens))"
   ],
   "metadata": {
    "collapsed": false,
    "pycharm": {
     "name": "#%%\n"
    }
   }
  },
  {
   "cell_type": "code",
   "execution_count": null,
   "outputs": [],
   "source": [
    "def preprocess_text(text: str, stemmer: StemmerI = PorterStemmer(), as_list: bool = True) -> str:\n",
    "    \"\"\"\n",
    "    Pre-processes text by:\n",
    "        removing punctuation\n",
    "        tokenizing the string\n",
    "        removing stop words\n",
    "        stemming tokens to common roots\n",
    "\n",
    "    Args:\n",
    "        text: the text to run pre-processing on\n",
    "        stemmer: the stemmer to use if not given a default stemmer of the nltk.stem.porter.PorterStemmer is used\n",
    "        as_list: if true will calculate and return values as a list else will calculate and return as a set\n",
    "\n",
    "    Returns:\n",
    "\n",
    "    \"\"\"\n",
    "    # Replace all punctuation with white space and make lower case\n",
    "    text = \"\".join([\" \" if t in string.punctuation else t for t in text]).lower()\n",
    "    if as_list:\n",
    "        # Return tokens as a list\n",
    "        # Split into tokens\n",
    "        doc_tokens = word_tokenize(text)\n",
    "        # Remove Stopwords\n",
    "        doc_tokens = [doc_token for doc_token in doc_tokens if doc_token not in stopwords.words(\"english\")]\n",
    "        # Stem Tokens\n",
    "        doc_tokens = [stemmer.stem(doc_token) for doc_token in doc_tokens]\n",
    "    else:\n",
    "        # Return tokens as a set\n",
    "        # Split into tokens\n",
    "        doc_tokens = set(word_tokenize(text))\n",
    "        # Remove Stopwords\n",
    "        doc_tokens = {doc_token for doc_token in doc_tokens if doc_token not in stopwords.words(\"english\")}\n",
    "        # Stem Tokens\n",
    "        doc_tokens = {stemmer.stem(doc_token) for doc_token in doc_tokens}\n",
    "\n",
    "    return doc_tokens"
   ],
   "metadata": {
    "collapsed": false,
    "pycharm": {
     "name": "#%%\n"
    }
   }
  }
 ],
 "metadata": {
  "kernelspec": {
   "display_name": "Python 3",
   "language": "python",
   "name": "python3"
  },
  "language_info": {
   "codemirror_mode": {
    "name": "ipython",
    "version": 2
   },
   "file_extension": ".py",
   "mimetype": "text/x-python",
   "name": "python",
   "nbconvert_exporter": "python",
   "pygments_lexer": "ipython2",
   "version": "2.7.6"
  }
 },
 "nbformat": 4,
 "nbformat_minor": 0
}